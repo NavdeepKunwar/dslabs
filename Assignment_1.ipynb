{
  "nbformat": 4,
  "nbformat_minor": 0,
  "metadata": {
    "colab": {
      "name": "Assignment 1",
      "provenance": [],
      "authorship_tag": "ABX9TyMm69qyjG6gBiTt/ANlWYkR",
      "include_colab_link": true
    },
    "kernelspec": {
      "name": "python3",
      "display_name": "Python 3"
    }
  },
  "cells": [
    {
      "cell_type": "markdown",
      "metadata": {
        "id": "view-in-github",
        "colab_type": "text"
      },
      "source": [
        "<a href=\"https://colab.research.google.com/github/NavdeepKunwar/dslabs/blob/master/Assignment_1.ipynb\" target=\"_parent\"><img src=\"https://colab.research.google.com/assets/colab-badge.svg\" alt=\"Open In Colab\"/></a>"
      ]
    },
    {
      "cell_type": "markdown",
      "metadata": {
        "id": "U2idLIkxuWvS"
      },
      "source": [
        "#Problem 1\r\n"
      ]
    },
    {
      "cell_type": "code",
      "metadata": {
        "colab": {
          "base_uri": "https://localhost:8080/"
        },
        "id": "RhHMgmZ8Ot5u",
        "outputId": "5732c59b-6bb0-4e6d-bf64-4c4eedb1599b"
      },
      "source": [
        "weight=input(\"Please enter your weight in kgs \")\r\n",
        "weight=float(weight)\r\n",
        "height=input(\"Please enter the unit of height in which you want to enter the height F for feet and M for meters \")\r\n",
        "if height=='F':\r\n",
        "    height_in_feet=input('Please enter only the feet parameter of your height ')\r\n",
        "    height_in_feet=float(height_in_feet)\r\n",
        "    height_in_inches=input('Please enter only the inches parameter of your height ')\r\n",
        "    height_in_inches=float(height_in_inches)\r\n",
        "    height_in_meters=((height_in_feet)+(height_in_inches)/12)*0.3048\r\n",
        "if height=='M':\r\n",
        "    height_in_meters=input('Please enter your height in meters ')\r\n",
        "    height_in_meters=float(height_in_meters)\r\n",
        "\r\n",
        "\r\n",
        "BMI=(weight)/((height_in_meters)**2)\r\n",
        "print(BMI)\r\n",
        "BMI=float(BMI)\r\n",
        "if BMI<18.5:\r\n",
        "    print('Underweight')\r\n",
        "elif (BMI>= 18.5) & (BMI<25.0):\r\n",
        "    print('Normal')\r\n",
        "elif (BMI>=25.0) & (BMI<30.0):\r\n",
        "    print('Overweight')\r\n",
        "else:\r\n",
        "    print('Overweight')\r\n",
        "    \r\n",
        "\r\n",
        "\r\n"
      ],
      "execution_count": null,
      "outputs": [
        {
          "output_type": "stream",
          "text": [
            "Please enter your weight in kgs 60\n",
            "Please enter the unit of height in which you want to enter the height F for feet and M for meters F\n",
            "Please enter only the feet parameter of your height 5\n",
            "Please enter only the inches parameter of your height 9\n",
            "19.533750472667922\n",
            "Normal\n"
          ],
          "name": "stdout"
        }
      ]
    },
    {
      "cell_type": "code",
      "metadata": {
        "id": "clDAVVA6w3I3"
      },
      "source": [
        ""
      ],
      "execution_count": null,
      "outputs": []
    },
    {
      "cell_type": "markdown",
      "metadata": {
        "id": "lYuOT0SEamh4"
      },
      "source": [
        "#Problem 1"
      ]
    },
    {
      "cell_type": "code",
      "metadata": {
        "id": "x5jrKnt5ulqk"
      },
      "source": [
        "pro=1\r\n",
        "def factorial_function(n):\r\n",
        "        pro=1\r\n",
        "        n=float(n)\r\n",
        "        while (n!=0):\r\n",
        "            pro=pro*n\r\n",
        "            n=n-1\r\n",
        "        return pro\r\n",
        "\r\n",
        "  "
      ],
      "execution_count": null,
      "outputs": []
    },
    {
      "cell_type": "markdown",
      "metadata": {
        "id": "mJi8yfQQBrRL"
      },
      "source": [
        "#Problem 2"
      ]
    },
    {
      "cell_type": "code",
      "metadata": {
        "id": "eBI2z0J0BnRw"
      },
      "source": [
        "def recursive_factorial_function(n1):\r\n",
        "    n1=float(n1)\r\n",
        "    \r\n",
        "    if n1>1:\r\n",
        "        \r\n",
        "        return n1 * recursive_factorial_function(n1-1)\r\n",
        "    else:\r\n",
        "        return 1\r\n"
      ],
      "execution_count": null,
      "outputs": []
    },
    {
      "cell_type": "code",
      "metadata": {
        "colab": {
          "base_uri": "https://localhost:8080/"
        },
        "id": "8c5PKdxoCqjN",
        "outputId": "d19d6c7a-2f14-43f3-c6c7-7bd1705bb7cc"
      },
      "source": [
        "recursive_factorial_function(5)"
      ],
      "execution_count": null,
      "outputs": [
        {
          "output_type": "stream",
          "text": [
            "1\n"
          ],
          "name": "stdout"
        }
      ]
    },
    {
      "cell_type": "markdown",
      "metadata": {
        "id": "AJ_jmWVZOw2u"
      },
      "source": [
        "#Problem 3"
      ]
    },
    {
      "cell_type": "code",
      "metadata": {
        "id": "kP8uZyo8Ec5J"
      },
      "source": [
        "def computing_function(x,n2):\r\n",
        "    x=float(x)\r\n",
        "    for i in range(n2):\r\n",
        "        compute=(x**n2)/factorial_function(n2)\r\n",
        "    return compute\r\n",
        "\r\n"
      ],
      "execution_count": null,
      "outputs": []
    },
    {
      "cell_type": "code",
      "metadata": {
        "colab": {
          "base_uri": "https://localhost:8080/"
        },
        "id": "54exsnSJQkrH",
        "outputId": "c89bd334-8968-4134-9bd1-8b67b446f93c"
      },
      "source": [
        "computing_function(2,3)"
      ],
      "execution_count": null,
      "outputs": [
        {
          "output_type": "execute_result",
          "data": {
            "text/plain": [
              "1.3333333333333333"
            ]
          },
          "metadata": {
            "tags": []
          },
          "execution_count": 5
        }
      ]
    },
    {
      "cell_type": "code",
      "metadata": {
        "colab": {
          "base_uri": "https://localhost:8080/"
        },
        "id": "v3_DXTLQQu7O",
        "outputId": "5525d032-c49f-45d5-8ef0-361d3a039c11"
      },
      "source": [
        "factorial_function(5)"
      ],
      "execution_count": null,
      "outputs": [
        {
          "output_type": "execute_result",
          "data": {
            "text/plain": [
              "120.0"
            ]
          },
          "metadata": {
            "tags": []
          },
          "execution_count": 6
        }
      ]
    },
    {
      "cell_type": "code",
      "metadata": {
        "id": "oK3TOdb0RJVf"
      },
      "source": [
        "def computing_function1(x1,n3):\r\n",
        "        x1=float(x1)\r\n",
        "        \r\n",
        "        compute1=1\r\n",
        "        for i in range(n3):\r\n",
        "            compute1=compute1+computing_function(x1,i+1)\r\n",
        "        return compute1\r\n"
      ],
      "execution_count": null,
      "outputs": []
    },
    {
      "cell_type": "code",
      "metadata": {
        "colab": {
          "base_uri": "https://localhost:8080/"
        },
        "id": "QbLj9cVDWW3G",
        "outputId": "21ebbf19-d5c8-4558-eccc-7ba252221582"
      },
      "source": [
        "computing_function1(2,3)"
      ],
      "execution_count": null,
      "outputs": [
        {
          "output_type": "execute_result",
          "data": {
            "text/plain": [
              "6.333333333333333"
            ]
          },
          "metadata": {
            "tags": []
          },
          "execution_count": 15
        }
      ]
    },
    {
      "cell_type": "code",
      "metadata": {
        "id": "Je9p40lGWcpS"
      },
      "source": [
        "def computing_function1(x1,epsilon):\r\n",
        "        x1=float(x1)\r\n",
        "        var=epsilon\r\n",
        "        compute1=1\r\n",
        "        while var>= epsilon :\r\n",
        "            var=computing_function(x1,i+1)\r\n",
        "            compute1=compute1+computing_function(x1,i+1)\r\n",
        "        return compute1"
      ],
      "execution_count": null,
      "outputs": []
    },
    {
      "cell_type": "code",
      "metadata": {
        "colab": {
          "base_uri": "https://localhost:8080/"
        },
        "id": "TZOKGet0itWY",
        "outputId": "315d1417-f57e-4154-b590-3392025738ac"
      },
      "source": [
        "a=0\r\n",
        "for j in range(1,10000,7):\r\n",
        "    a=a+j\r\n",
        "print(a)"
      ],
      "execution_count": null,
      "outputs": [
        {
          "output_type": "stream",
          "text": [
            "7143571\n"
          ],
          "name": "stdout"
        }
      ]
    },
    {
      "cell_type": "code",
      "metadata": {
        "id": "mxZQfuEdi4Om"
      },
      "source": [
        "id?"
      ],
      "execution_count": null,
      "outputs": []
    },
    {
      "cell_type": "code",
      "metadata": {
        "colab": {
          "base_uri": "https://localhost:8080/"
        },
        "id": "KdV7_5eFmyT_",
        "outputId": "df4c6714-37cb-4ab5-8e34-d2399be069d9"
      },
      "source": [
        "index?\r\n"
      ],
      "execution_count": null,
      "outputs": [
        {
          "output_type": "stream",
          "text": [
            "Object `index` not found.\n"
          ],
          "name": "stdout"
        }
      ]
    },
    {
      "cell_type": "code",
      "metadata": {
        "id": "5djIcHNKsSyq"
      },
      "source": [
        ""
      ],
      "execution_count": null,
      "outputs": []
    }
  ]
}