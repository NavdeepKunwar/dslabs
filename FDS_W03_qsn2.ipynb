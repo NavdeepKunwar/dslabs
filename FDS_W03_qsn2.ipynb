{
  "nbformat": 4,
  "nbformat_minor": 0,
  "metadata": {
    "colab": {
      "name": "FDS_W03_P01.ipynb",
      "provenance": [],
      "collapsed_sections": [],
      "authorship_tag": "ABX9TyMale+Hu12m63ODUuXu1roE",
      "include_colab_link": true
    },
    "kernelspec": {
      "name": "python3",
      "display_name": "Python 3"
    }
  },
  "cells": [
    {
      "cell_type": "markdown",
      "metadata": {
        "id": "view-in-github",
        "colab_type": "text"
      },
      "source": [
        "<a href=\"https://colab.research.google.com/github/NavdeepKunwar/dslabs/blob/master/FDS_W03_qsn2.ipynb\" target=\"_parent\"><img src=\"https://colab.research.google.com/assets/colab-badge.svg\" alt=\"Open In Colab\"/></a>"
      ]
    },
    {
      "cell_type": "markdown",
      "metadata": {
        "id": "-4NT91Txod92"
      },
      "source": [
        "# Printing Basic Types"
      ]
    },
    {
      "cell_type": "code",
      "metadata": {
        "colab": {
          "base_uri": "https://localhost:8080/"
        },
        "id": "RgDKJxs7mdqN",
        "outputId": "f2cae437-a390-4f80-8e1c-f533c461e44e"
      },
      "source": [
        "print(\"Hello World!\")"
      ],
      "execution_count": null,
      "outputs": [
        {
          "output_type": "stream",
          "text": [
            "Hello World!\n"
          ],
          "name": "stdout"
        }
      ]
    },
    {
      "cell_type": "code",
      "metadata": {
        "colab": {
          "base_uri": "https://localhost:8080/"
        },
        "id": "LLMCZAElpKzX",
        "outputId": "493621c2-014e-4a51-ea46-427da6a4bcfb"
      },
      "source": [
        "print(\"Hello World!\")\r\n",
        "print(\"Namaskar from Navdeep!\")"
      ],
      "execution_count": null,
      "outputs": [
        {
          "output_type": "stream",
          "text": [
            "Hello World!\n",
            "Namaskar from Navdeep!\n"
          ],
          "name": "stdout"
        }
      ]
    },
    {
      "cell_type": "code",
      "metadata": {
        "colab": {
          "base_uri": "https://localhost:8080/"
        },
        "id": "vZQn9rN3pQzU",
        "outputId": "bbe0b80b-17c2-4686-952b-fbe83117712b"
      },
      "source": [
        "print(\"Navdeep\" + \"Kunwar\")"
      ],
      "execution_count": null,
      "outputs": [
        {
          "output_type": "stream",
          "text": [
            "NavdeepKunwar\n"
          ],
          "name": "stdout"
        }
      ]
    },
    {
      "cell_type": "code",
      "metadata": {
        "colab": {
          "base_uri": "https://localhost:8080/"
        },
        "id": "tq1_zSh0pk59",
        "outputId": "3010dd0c-a36e-447f-cfd9-11598e5c986e"
      },
      "source": [
        "print( True or False)"
      ],
      "execution_count": null,
      "outputs": [
        {
          "output_type": "stream",
          "text": [
            "True\n"
          ],
          "name": "stdout"
        }
      ]
    },
    {
      "cell_type": "code",
      "metadata": {
        "colab": {
          "base_uri": "https://localhost:8080/"
        },
        "id": "GJxBqGg6qT3p",
        "outputId": "d7aebf3a-5d60-4407-90e4-a46c0684bfb7"
      },
      "source": [
        "print(True and False)"
      ],
      "execution_count": null,
      "outputs": [
        {
          "output_type": "stream",
          "text": [
            "False\n"
          ],
          "name": "stdout"
        }
      ]
    },
    {
      "cell_type": "code",
      "metadata": {
        "colab": {
          "base_uri": "https://localhost:8080/"
        },
        "id": "4HfIv5WIqdt1",
        "outputId": "05544f6b-fab5-4281-ca60-86c00172467e"
      },
      "source": [
        "print(5%3)"
      ],
      "execution_count": null,
      "outputs": [
        {
          "output_type": "stream",
          "text": [
            "2\n"
          ],
          "name": "stdout"
        }
      ]
    },
    {
      "cell_type": "code",
      "metadata": {
        "colab": {
          "base_uri": "https://localhost:8080/"
        },
        "id": "kqx5kcZ4sEN6",
        "outputId": "57c8d547-2fd0-40be-dfce-c5e2a1ea5707"
      },
      "source": [
        "print(75%4)"
      ],
      "execution_count": null,
      "outputs": [
        {
          "output_type": "stream",
          "text": [
            "3\n"
          ],
          "name": "stdout"
        }
      ]
    },
    {
      "cell_type": "markdown",
      "metadata": {
        "id": "Wb3fX-0ZoqFd"
      },
      "source": [
        "# Variables"
      ]
    },
    {
      "cell_type": "code",
      "metadata": {
        "id": "wK2QCqABor6G",
        "colab": {
          "base_uri": "https://localhost:8080/"
        },
        "outputId": "e101d05c-066c-4a2b-f7b1-bb1f66497691"
      },
      "source": [
        "school=\"Padhai\"\r\n",
        "print(school)\r\n",
        "print(id(school))"
      ],
      "execution_count": null,
      "outputs": [
        {
          "output_type": "stream",
          "text": [
            "Padhai\n",
            "140477512913448\n"
          ],
          "name": "stdout"
        }
      ]
    },
    {
      "cell_type": "code",
      "metadata": {
        "colab": {
          "base_uri": "https://localhost:8080/"
        },
        "id": "HO2CVv0ptwUR",
        "outputId": "424e2dfd-d80c-4a35-fc24-31980cc1ae3e"
      },
      "source": [
        "another_school=\"Padhai\"\r\n",
        "print(id(another_school))"
      ],
      "execution_count": null,
      "outputs": [
        {
          "output_type": "stream",
          "text": [
            "140477512913448\n"
          ],
          "name": "stdout"
        }
      ]
    },
    {
      "cell_type": "code",
      "metadata": {
        "colab": {
          "base_uri": "https://localhost:8080/"
        },
        "id": "bZPiaPlmuGRQ",
        "outputId": "fdde73db-3067-4c73-8234-916c28cc5a92"
      },
      "source": [
        "another_school=\"IMS GZB\"\r\n",
        "print(id(another_school))"
      ],
      "execution_count": null,
      "outputs": [
        {
          "output_type": "stream",
          "text": [
            "140477512913840\n"
          ],
          "name": "stdout"
        }
      ]
    },
    {
      "cell_type": "markdown",
      "metadata": {
        "id": "dbFu4NqoxXwW"
      },
      "source": [
        "# Integers, Float, String and their conversion"
      ]
    },
    {
      "cell_type": "code",
      "metadata": {
        "id": "_idjdBeNuNZ3"
      },
      "source": [
        "num1=7"
      ],
      "execution_count": null,
      "outputs": []
    },
    {
      "cell_type": "code",
      "metadata": {
        "colab": {
          "base_uri": "https://localhost:8080/"
        },
        "id": "YL_KMILkyDwr",
        "outputId": "d0453d13-3f69-4577-ff52-ac9aa54e1762"
      },
      "source": [
        "print(type(num1))"
      ],
      "execution_count": null,
      "outputs": [
        {
          "output_type": "stream",
          "text": [
            "<class 'int'>\n"
          ],
          "name": "stdout"
        }
      ]
    },
    {
      "cell_type": "code",
      "metadata": {
        "id": "POrBO_m1yICH"
      },
      "source": [
        "num2=7.5"
      ],
      "execution_count": null,
      "outputs": []
    },
    {
      "cell_type": "code",
      "metadata": {
        "colab": {
          "base_uri": "https://localhost:8080/"
        },
        "id": "c1JnpcRwyLZs",
        "outputId": "023889a5-1c69-4d69-803f-80f883e3a7e1"
      },
      "source": [
        "print(type(num2))"
      ],
      "execution_count": null,
      "outputs": [
        {
          "output_type": "stream",
          "text": [
            "<class 'float'>\n"
          ],
          "name": "stdout"
        }
      ]
    },
    {
      "cell_type": "code",
      "metadata": {
        "id": "FaIpjMmgyNHn"
      },
      "source": [
        "expression= True"
      ],
      "execution_count": null,
      "outputs": []
    },
    {
      "cell_type": "code",
      "metadata": {
        "colab": {
          "base_uri": "https://localhost:8080/"
        },
        "id": "iykJPGETyQlV",
        "outputId": "768251d2-f7bb-492f-b7e7-3b9dd21b2722"
      },
      "source": [
        "print(type(expression))"
      ],
      "execution_count": null,
      "outputs": [
        {
          "output_type": "stream",
          "text": [
            "<class 'bool'>\n"
          ],
          "name": "stdout"
        }
      ]
    },
    {
      "cell_type": "code",
      "metadata": {
        "colab": {
          "base_uri": "https://localhost:8080/"
        },
        "id": "iHDlLhubyTRs",
        "outputId": "9df23cfd-07d2-48fa-d952-4e6b49877726"
      },
      "source": [
        "name=input(\"Enter your name: \")"
      ],
      "execution_count": null,
      "outputs": [
        {
          "output_type": "stream",
          "text": [
            "Enter your name: Navdeep\n"
          ],
          "name": "stdout"
        }
      ]
    },
    {
      "cell_type": "code",
      "metadata": {
        "colab": {
          "base_uri": "https://localhost:8080/"
        },
        "id": "-OKrWAYzybz6",
        "outputId": "9a7d558d-9bd4-42b6-ce9d-6eaaf422d9d9"
      },
      "source": [
        "studying_hrs= input(\"enter number of hours you study: \")"
      ],
      "execution_count": null,
      "outputs": [
        {
          "output_type": "stream",
          "text": [
            "enter number of hours you study: 7 \n"
          ],
          "name": "stdout"
        }
      ]
    },
    {
      "cell_type": "code",
      "metadata": {
        "colab": {
          "base_uri": "https://localhost:8080/"
        },
        "id": "s88oeUHsyqYw",
        "outputId": "0392013c-ec4a-48d8-e064-c2ebba0fa8ec"
      },
      "source": [
        "print(\"My name is \"+ name+\",\" + \" I study for \"+ studying_hrs )"
      ],
      "execution_count": null,
      "outputs": [
        {
          "output_type": "stream",
          "text": [
            "My name is Navdeep, I study for 7 \n"
          ],
          "name": "stdout"
        }
      ]
    },
    {
      "cell_type": "code",
      "metadata": {
        "id": "LJWM4B9eziS-"
      },
      "source": [
        "new_studying_hrs= int(studying_hrs) * 2"
      ],
      "execution_count": null,
      "outputs": []
    },
    {
      "cell_type": "code",
      "metadata": {
        "colab": {
          "base_uri": "https://localhost:8080/"
        },
        "id": "PO9NY_Jv0sCY",
        "outputId": "67161164-97fa-4f45-a55c-ab276b43d11a"
      },
      "source": [
        "print(\"My name is \"+ name+\",\" + \" I study for \"+ str(new_studying_hrs ))"
      ],
      "execution_count": null,
      "outputs": [
        {
          "output_type": "stream",
          "text": [
            "My name is Navdeep, I study for 14\n"
          ],
          "name": "stdout"
        }
      ]
    },
    {
      "cell_type": "markdown",
      "metadata": {
        "id": "4K1IaJVA8enZ"
      },
      "source": [
        "# Methods on String"
      ]
    },
    {
      "cell_type": "code",
      "metadata": {
        "id": "eEAuEM6S0wJT"
      },
      "source": [
        "org=\"Instiute Of Management Studies\""
      ],
      "execution_count": null,
      "outputs": []
    },
    {
      "cell_type": "code",
      "metadata": {
        "colab": {
          "base_uri": "https://localhost:8080/"
        },
        "id": "Nj-rQ48n8qo3",
        "outputId": "d3659249-dfd6-4a6a-8769-d301680981e2"
      },
      "source": [
        "print(org.lower())"
      ],
      "execution_count": null,
      "outputs": [
        {
          "output_type": "stream",
          "text": [
            "instiute of management studies\n"
          ],
          "name": "stdout"
        }
      ]
    },
    {
      "cell_type": "code",
      "metadata": {
        "colab": {
          "base_uri": "https://localhost:8080/"
        },
        "id": "F0RUiB5j8s6E",
        "outputId": "24d0a8b4-08a0-4a47-9881-0db5d114fb22"
      },
      "source": [
        "print(org.upper())"
      ],
      "execution_count": null,
      "outputs": [
        {
          "output_type": "stream",
          "text": [
            "INSTIUTE OF MANAGEMENT STUDIES\n"
          ],
          "name": "stdout"
        }
      ]
    },
    {
      "cell_type": "code",
      "metadata": {
        "colab": {
          "base_uri": "https://localhost:8080/"
        },
        "id": "t52efQu48v6D",
        "outputId": "76538544-d0a2-4acf-a6a0-db53706460ac"
      },
      "source": [
        "print(org.islower())"
      ],
      "execution_count": null,
      "outputs": [
        {
          "output_type": "stream",
          "text": [
            "False\n"
          ],
          "name": "stdout"
        }
      ]
    },
    {
      "cell_type": "code",
      "metadata": {
        "colab": {
          "base_uri": "https://localhost:8080/"
        },
        "id": "JZiPUYYq8yIu",
        "outputId": "ff9532cc-3db9-4200-f16d-15322d2afbf4"
      },
      "source": [
        "print(org.isupper())"
      ],
      "execution_count": null,
      "outputs": [
        {
          "output_type": "stream",
          "text": [
            "False\n"
          ],
          "name": "stdout"
        }
      ]
    },
    {
      "cell_type": "code",
      "metadata": {
        "colab": {
          "base_uri": "https://localhost:8080/"
        },
        "id": "TuiiMtfB81kt",
        "outputId": "277c040e-e72e-4cfd-c5e0-caa8cbdfe176"
      },
      "source": [
        "print(org.find(\"Studies\"))"
      ],
      "execution_count": null,
      "outputs": [
        {
          "output_type": "stream",
          "text": [
            "23\n"
          ],
          "name": "stdout"
        }
      ]
    },
    {
      "cell_type": "code",
      "metadata": {
        "colab": {
          "base_uri": "https://localhost:8080/"
        },
        "id": "1GOXaOoI85rn",
        "outputId": "604ca9f3-6131-42a0-c4ed-7906068d8b1f"
      },
      "source": [
        "print(org.replace(\"Management\", \"Engineering\"))"
      ],
      "execution_count": null,
      "outputs": [
        {
          "output_type": "stream",
          "text": [
            "Instiute Of Engineering Studies\n"
          ],
          "name": "stdout"
        }
      ]
    },
    {
      "cell_type": "code",
      "metadata": {
        "colab": {
          "base_uri": "https://localhost:8080/"
        },
        "id": "SSVjZ8z49xBU",
        "outputId": "e0cafa3a-d1af-43ac-84ac-df1eee41b645"
      },
      "source": [
        "print(org.count(\"a\"))"
      ],
      "execution_count": null,
      "outputs": [
        {
          "output_type": "stream",
          "text": [
            "2\n"
          ],
          "name": "stdout"
        }
      ]
    },
    {
      "cell_type": "code",
      "metadata": {
        "colab": {
          "base_uri": "https://localhost:8080/"
        },
        "id": "nlvc3V7791cy",
        "outputId": "a250bb5d-efa1-49d1-9c28-de8c2ecb355f"
      },
      "source": [
        "print(org.index(\"m\"))"
      ],
      "execution_count": null,
      "outputs": [
        {
          "output_type": "stream",
          "text": [
            "18\n"
          ],
          "name": "stdout"
        }
      ]
    },
    {
      "cell_type": "markdown",
      "metadata": {
        "id": "_6YHlqkF9Fk5"
      },
      "source": [
        "# Methods on Integers and Float"
      ]
    },
    {
      "cell_type": "code",
      "metadata": {
        "id": "Z0VHxaUg8_9V"
      },
      "source": [
        "golden_ratio = 55/37"
      ],
      "execution_count": null,
      "outputs": []
    },
    {
      "cell_type": "code",
      "metadata": {
        "colab": {
          "base_uri": "https://localhost:8080/"
        },
        "id": "2yeyZkeE9OBS",
        "outputId": "70f7b086-6d69-43e9-ec5a-877624cdcdef"
      },
      "source": [
        "print(golden_ratio)"
      ],
      "execution_count": null,
      "outputs": [
        {
          "output_type": "stream",
          "text": [
            "1.4864864864864864\n"
          ],
          "name": "stdout"
        }
      ]
    },
    {
      "cell_type": "code",
      "metadata": {
        "colab": {
          "base_uri": "https://localhost:8080/"
        },
        "id": "8AtNwTmg9Pja",
        "outputId": "4dd14cd5-19c7-4503-b485-7e7c1aa51740"
      },
      "source": [
        "print(golden_ratio.is_integer())"
      ],
      "execution_count": null,
      "outputs": [
        {
          "output_type": "stream",
          "text": [
            "False\n"
          ],
          "name": "stdout"
        }
      ]
    },
    {
      "cell_type": "code",
      "metadata": {
        "colab": {
          "base_uri": "https://localhost:8080/"
        },
        "id": "ccoGm7yW9TUk",
        "outputId": "57955562-5088-494e-8914-9197b15b29d4"
      },
      "source": [
        "print(golden_ratio.as_integer_ratio())"
      ],
      "execution_count": null,
      "outputs": [
        {
          "output_type": "stream",
          "text": [
            "(3347269993315909, 2251799813685248)\n"
          ],
          "name": "stdout"
        }
      ]
    },
    {
      "cell_type": "markdown",
      "metadata": {
        "id": "vw7wgnWzQFd_"
      },
      "source": [
        "# If, For and While Block"
      ]
    },
    {
      "cell_type": "code",
      "metadata": {
        "id": "jV1OmjeN9op0",
        "colab": {
          "base_uri": "https://localhost:8080/"
        },
        "outputId": "83c56bd6-49e5-4340-dfd1-1fbd53e79269"
      },
      "source": [
        "number_hrs = int(input(\"enter number of hrs you study= \"))"
      ],
      "execution_count": null,
      "outputs": [
        {
          "output_type": "stream",
          "text": [
            "enter number of hrs you study= 10\n"
          ],
          "name": "stdout"
        }
      ]
    },
    {
      "cell_type": "code",
      "metadata": {
        "colab": {
          "base_uri": "https://localhost:8080/"
        },
        "id": "Gun2KAVyQP4N",
        "outputId": "c820a8c4-ee67-488b-83f7-efd09077b035"
      },
      "source": [
        "if number_hrs > 12:\r\n",
        "    print(\"you are doing good\")\r\n",
        "else: \r\n",
        "    print(\"you need to study more \")\r\n"
      ],
      "execution_count": null,
      "outputs": [
        {
          "output_type": "stream",
          "text": [
            "you need to study more \n"
          ],
          "name": "stdout"
        }
      ]
    },
    {
      "cell_type": "code",
      "metadata": {
        "colab": {
          "base_uri": "https://localhost:8080/"
        },
        "id": "7LfhQe1PQvKC",
        "outputId": "69c9bf00-8a19-4202-98fc-181e47536784"
      },
      "source": [
        "for i in range(5):\r\n",
        "    print(i, i**2)"
      ],
      "execution_count": null,
      "outputs": [
        {
          "output_type": "stream",
          "text": [
            "0 0\n",
            "1 1\n",
            "2 4\n",
            "3 9\n",
            "4 16\n"
          ],
          "name": "stdout"
        }
      ]
    },
    {
      "cell_type": "code",
      "metadata": {
        "colab": {
          "base_uri": "https://localhost:8080/"
        },
        "id": "zkAsv37MQ8MX",
        "outputId": "a98e1243-4fbc-479f-df0c-332848b1bd88"
      },
      "source": [
        "# fibonaaci series\r\n",
        "num1=int(input(\"enter firt number= \"))\r\n",
        "num2= int(input(\"enter second number=  \"))"
      ],
      "execution_count": null,
      "outputs": [
        {
          "output_type": "stream",
          "text": [
            "enter firt number= 1\n",
            "enter second number=  1\n"
          ],
          "name": "stdout"
        }
      ]
    },
    {
      "cell_type": "code",
      "metadata": {
        "colab": {
          "base_uri": "https://localhost:8080/"
        },
        "id": "ym1G7gRhROhh",
        "outputId": "579f3480-5f5f-47e7-d5c8-292045ef33d6"
      },
      "source": [
        "print(num1)\r\n",
        "print(num2)\r\n",
        "for i in range(5):\r\n",
        "    num = num1 + num2\r\n",
        "    num1 = num2\r\n",
        "    num2 = num\r\n",
        "    print(num)\r\n",
        "\r\n",
        "\r\n",
        "    "
      ],
      "execution_count": null,
      "outputs": [
        {
          "output_type": "stream",
          "text": [
            "1\n",
            "1\n",
            "2\n",
            "3\n",
            "5\n",
            "8\n",
            "13\n"
          ],
          "name": "stdout"
        }
      ]
    },
    {
      "cell_type": "code",
      "metadata": {
        "colab": {
          "base_uri": "https://localhost:8080/"
        },
        "id": "DED8D3KORw69",
        "outputId": "7fb50ff0-e4bc-4b20-c936-b41833cd3827"
      },
      "source": [
        "while num2 < 500:\r\n",
        "    num = num1 + num2\r\n",
        "    num1 = num2\r\n",
        "    num2 = num\r\n",
        "    print(num)"
      ],
      "execution_count": null,
      "outputs": [
        {
          "output_type": "stream",
          "text": [
            "21\n",
            "34\n",
            "55\n",
            "89\n",
            "144\n",
            "233\n",
            "377\n",
            "610\n"
          ],
          "name": "stdout"
        }
      ]
    },
    {
      "cell_type": "markdown",
      "metadata": {
        "id": "PSb-5dINWJX9"
      },
      "source": [
        "# Functions"
      ]
    },
    {
      "cell_type": "code",
      "metadata": {
        "id": "-2ByAOUFVkmd"
      },
      "source": [
        "def fibonacci(pos):\r\n",
        "    a = 1\r\n",
        "    b = 1\r\n",
        "    for i in range(pos):\r\n",
        "        temp = a + b\r\n",
        "        a = b\r\n",
        "        b = temp\r\n",
        "    return temp"
      ],
      "execution_count": null,
      "outputs": []
    },
    {
      "cell_type": "code",
      "metadata": {
        "colab": {
          "base_uri": "https://localhost:8080/"
        },
        "id": "vUwurQjJkmI3",
        "outputId": "ec851aeb-a74a-414b-e2b5-666cff7b9231"
      },
      "source": [
        "print(fibonacci(3))"
      ],
      "execution_count": null,
      "outputs": [
        {
          "output_type": "stream",
          "text": [
            "5\n"
          ],
          "name": "stdout"
        }
      ]
    },
    {
      "cell_type": "code",
      "metadata": {
        "id": "9SxZnuoUkooG"
      },
      "source": [
        "def fibonaaci_relative(pos, a, b):\r\n",
        "    for i in range(pos):\r\n",
        "        temp = a + b\r\n",
        "        a = b\r\n",
        "        b = temp\r\n",
        "    return temp"
      ],
      "execution_count": null,
      "outputs": []
    },
    {
      "cell_type": "code",
      "metadata": {
        "colab": {
          "base_uri": "https://localhost:8080/"
        },
        "id": "f3TrVkeok4Ax",
        "outputId": "503dff95-5bfc-481c-df25-bcfda740f8f6"
      },
      "source": [
        "print(fibonaaci_relative(3, 1, 1))"
      ],
      "execution_count": null,
      "outputs": [
        {
          "output_type": "stream",
          "text": [
            "5\n"
          ],
          "name": "stdout"
        }
      ]
    },
    {
      "cell_type": "markdown",
      "metadata": {
        "id": "eE5VO4klk-kJ"
      },
      "source": [
        "# Assignments\r\n"
      ]
    },
    {
      "cell_type": "markdown",
      "metadata": {
        "id": "yThz3kZylDes"
      },
      "source": [
        "## Question 1"
      ]
    },
    {
      "cell_type": "code",
      "metadata": {
        "colab": {
          "base_uri": "https://localhost:8080/"
        },
        "id": "RcoQRbgnk7GH",
        "outputId": "4a8a036a-8683-4676-f2e9-9e4a25cd8d9c"
      },
      "source": [
        "Weight = float (input(\"Enter your weight (in kgs) = \"))\r\n",
        "\r\n",
        "Preference= str (input(\"What is your preferred unit of height, type F for feet and M for meters = \"))\r\n",
        "\r\n",
        "if Preference ==  \"F\":\r\n",
        "    Feet = int (input(\"Enter feets = \"))\r\n",
        "    Inches = int (input(\"Enter inches = \") ) \r\n",
        "    Height_feets = Feet + Inches/10\r\n",
        "    Height = Height_feets * 0.3048\r\n",
        "else:\r\n",
        "    Height = float (input(\"What is your height in meters =  \"))\r\n",
        "print(\"Height = \", Height)\r\n",
        "\r\n",
        "BMI = Weight / (Height**2)\r\n",
        "print(BMI)\r\n",
        "\r\n",
        "if BMI < 18.5:\r\n",
        "    print(\"UNDERWEIGHT\")\r\n",
        "elif 18.5 <= BMI < 25:\r\n",
        "    print(\"NORMAL\")\r\n",
        "elif 25 <= BMI < 30:\r\n",
        "    print(\"OVERWEIGHT\")\r\n",
        "else: \r\n",
        "    print(\"VERY-OVERWEIGHT\")\r\n"
      ],
      "execution_count": null,
      "outputs": [
        {
          "output_type": "stream",
          "text": [
            "Enter your weight (in kgs) = 70\n",
            "What is your preferred unit of height, type F for feet and M for meters = F\n",
            "Enter feets = 5\n",
            "Enter inches = 9\n",
            "Height =  1.7983200000000001\n",
            "21.645324020961805\n",
            "NORMAL\n"
          ],
          "name": "stdout"
        }
      ]
    },
    {
      "cell_type": "markdown",
      "metadata": {
        "id": "NIqFcDKu2wkb"
      },
      "source": [
        "## Question2\r\n"
      ]
    },
    {
      "cell_type": "code",
      "metadata": {
        "id": "TZtdhEQ2og-p"
      },
      "source": [
        "# Iterative function to compute the factorial of a natural number\r\n",
        "def factorial(n):\r\n",
        "    fact = 1\r\n",
        "    for i in range(n):\r\n",
        "        fact = fact * (n-i)\r\n",
        "    return fact"
      ],
      "execution_count": 9,
      "outputs": []
    },
    {
      "cell_type": "code",
      "metadata": {
        "colab": {
          "base_uri": "https://localhost:8080/"
        },
        "id": "5Ql37o9YqQGf",
        "outputId": "41a1f4fe-6cca-4769-f1d2-0ab0578c49ae"
      },
      "source": [
        "print(factorial(3))"
      ],
      "execution_count": 10,
      "outputs": [
        {
          "output_type": "stream",
          "text": [
            "6\n"
          ],
          "name": "stdout"
        }
      ]
    },
    {
      "cell_type": "code",
      "metadata": {
        "id": "rLBOkMvpq1QB"
      },
      "source": [
        "# computing x**n / n!\r\n",
        "\r\n",
        "def ratio(x, n):\r\n",
        "    fraction = (x**n) / factorial(n)\r\n",
        "    return fraction"
      ],
      "execution_count": 12,
      "outputs": []
    },
    {
      "cell_type": "code",
      "metadata": {
        "colab": {
          "base_uri": "https://localhost:8080/"
        },
        "id": "dj20aAgvsGu_",
        "outputId": "eda51c26-7a6b-4055-dc94-50f8835bc8e2"
      },
      "source": [
        "print(ratio(2,3))"
      ],
      "execution_count": 66,
      "outputs": [
        {
          "output_type": "stream",
          "text": [
            "1.3333333333333333\n"
          ],
          "name": "stdout"
        }
      ]
    },
    {
      "cell_type": "code",
      "metadata": {
        "id": "ktGrE8LisOA9"
      },
      "source": [
        "# iterative sum of ratio\r\n",
        "\r\n",
        "def ratio_sum(x, N):\r\n",
        "    Sum = 1\r\n",
        "    for i in range(N):\r\n",
        "        Sum = Sum + ratio(x, i+1)\r\n",
        "    return Sum"
      ],
      "execution_count": 61,
      "outputs": []
    },
    {
      "cell_type": "code",
      "metadata": {
        "colab": {
          "base_uri": "https://localhost:8080/"
        },
        "id": "24KuIuGws3WL",
        "outputId": "f031a472-9a8d-4131-e431-b8d1d5c3f882"
      },
      "source": [
        "print(ratio_sum(2, 3))"
      ],
      "execution_count": 62,
      "outputs": [
        {
          "output_type": "stream",
          "text": [
            "6.333333333333333\n"
          ],
          "name": "stdout"
        }
      ]
    },
    {
      "cell_type": "code",
      "metadata": {
        "id": "uze5jsDSs6U4"
      },
      "source": [
        "def ratio_e(x, e):\r\n",
        "    Sum = 1\r\n",
        "    while ratio_sum(x, 1) - ratio_sum(x, 0) < e:\r\n",
        "        Sum = Sum + ratio_sum(x, 0)\r\n",
        "    return Sum"
      ],
      "execution_count": 36,
      "outputs": []
    },
    {
      "cell_type": "code",
      "metadata": {
        "colab": {
          "base_uri": "https://localhost:8080/"
        },
        "id": "kbfNxtpTwjMj",
        "outputId": "ac140208-00b5-4f5b-8923-3831d3975559"
      },
      "source": [
        "print(ratio_e(2, 0.01)) # this is wrong"
      ],
      "execution_count": 37,
      "outputs": [
        {
          "output_type": "stream",
          "text": [
            "1\n"
          ],
          "name": "stdout"
        }
      ]
    },
    {
      "cell_type": "code",
      "metadata": {
        "colab": {
          "base_uri": "https://localhost:8080/"
        },
        "id": "K1j7tECEwnO4",
        "outputId": "3af76f85-230a-4fe8-8658-2f26ebe7db7f"
      },
      "source": [
        "p = float (input(\"Enter p = \"))\r\n",
        "q = float (input(\"Enter q = \"))"
      ],
      "execution_count": 42,
      "outputs": [
        {
          "output_type": "stream",
          "text": [
            "Enter p = -1.5\n",
            "Enter q = 7.1\n"
          ],
          "name": "stdout"
        }
      ]
    },
    {
      "cell_type": "code",
      "metadata": {
        "colab": {
          "base_uri": "https://localhost:8080/"
        },
        "id": "2umpKj_Dy4YZ",
        "outputId": "0d69f3d0-8943-4573-c954-bf6e32edeb0f"
      },
      "source": [
        "v1 = ratio_sum(p, 100) * ratio_sum(q, 100)\r\n",
        "v2 = ratio_sum(p+q, 100)\r\n",
        "print(v1, v2, v1-v2)"
      ],
      "execution_count": 64,
      "outputs": [
        {
          "output_type": "stream",
          "text": [
            "270.4264074261525 270.4264074261526 -1.1368683772161603e-13\n"
          ],
          "name": "stdout"
        }
      ]
    },
    {
      "cell_type": "code",
      "metadata": {
        "id": "xVtCtmnczPxH"
      },
      "source": [
        "# Values of v1 and v2 are almost same"
      ],
      "execution_count": 65,
      "outputs": []
    },
    {
      "cell_type": "code",
      "metadata": {
        "id": "-c0TRtLf2tJ_"
      },
      "source": [
        ""
      ],
      "execution_count": null,
      "outputs": []
    }
  ]
}